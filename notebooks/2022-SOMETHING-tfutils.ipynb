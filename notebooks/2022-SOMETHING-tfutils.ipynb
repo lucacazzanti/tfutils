{
 "cells": [
  {
   "cell_type": "markdown",
   "id": "8f0968c5-eb71-42c1-a5c4-bc4eb33fe321",
   "metadata": {},
   "source": [
    "# tfutils: a Python API for Tracab XML files\n",
    "> An intuitive interface for quickly reading and plotting Tracab heatmaps.\n",
    "\n",
    "- toc:true\n",
    "- badges: true\n",
    "- comments: true\n",
    "- author: Luca Cazzanti\n",
    "- categories: [soccer analytics]\n",
    "- image: images/TO_DO.png"
   ]
  },
  {
   "cell_type": "code",
   "execution_count": null,
   "id": "c7d911ca-50fc-4938-bdc7-36638e9c37d3",
   "metadata": {},
   "outputs": [],
   "source": []
  }
 ],
 "metadata": {
  "kernelspec": {
   "display_name": "Python [conda env:soccer]",
   "language": "python",
   "name": "conda-env-soccer-py"
  },
  "language_info": {
   "codemirror_mode": {
    "name": "ipython",
    "version": 3
   },
   "file_extension": ".py",
   "mimetype": "text/x-python",
   "name": "python",
   "nbconvert_exporter": "python",
   "pygments_lexer": "ipython3",
   "version": "3.10.6"
  }
 },
 "nbformat": 4,
 "nbformat_minor": 5
}
